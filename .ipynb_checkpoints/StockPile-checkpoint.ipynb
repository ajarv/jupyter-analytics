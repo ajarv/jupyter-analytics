{
 "cells": [
  {
   "cell_type": "code",
   "execution_count": 4,
   "metadata": {},
   "outputs": [],
   "source": [
    "import pandas as pd"
   ]
  },
  {
   "cell_type": "code",
   "execution_count": 6,
   "metadata": {},
   "outputs": [],
   "source": [
    "df = pd.read_csv('jobs/treasury_yield.csv')"
   ]
  },
  {
   "cell_type": "code",
   "execution_count": 27,
   "metadata": {},
   "outputs": [],
   "source": [
    "# list(df.tail(1).to_dict()['NEW_DATE'].values())[0]\n",
    "def get_yield(a,y1,y3):\n",
    "    s1,p1 = y1\n",
    "    s3,p3 = y3\n",
    "\n",
    "    r1 = a[\"BC_{0}\".format(s1)]*.01\n",
    "    r3 = a[\"BC_{0}\".format(s3)]*.01\n",
    "    \n",
    "    r2 = ( ((((1 + r3)**p3)/(1 + r1)**p1))** (1/(p3-p1)) ) - 1  \n",
    "#     print(r1,r2,r3)\n",
    "    return r2*100\n",
    "#     df.set_value(a.iloc,\"FC_{0}_{1}\".format(y1,y3-y1), r2)\n",
    "\n",
    "\n",
    "def do_row(a):\n",
    "    return a['Id']\n",
    "\n",
    "df['FC_3_9'] = df.apply(get_yield,raw=True,axis=1,args=(('3MONTH',.25),('1YEAR',1)))\n",
    "df['FC_12_5'] = df.apply(get_yield,raw=True,axis=1,args=(('1YEAR',1),('5YEAR',5)))"
   ]
  },
  {
   "cell_type": "code",
   "execution_count": null,
   "metadata": {},
   "outputs": [],
   "source": [
    "%matplotlib inline\n",
    "import matplotlib.pyplot as plt\n",
    "from pylab import rcParams\n",
    "import numpy as np\n",
    "rcParams['figure.figsize'] = 26, 12\n",
    "rcParams['lines.linewidth'] = 1\n",
    "\n",
    "\n",
    "from U9 import line_plot\n",
    "# df = df.head(1000)\n",
    "# _df = df.tail(1500)\n",
    "# _df = df.tail(1000)\n",
    "# _df = df\n",
    "_df = df.resample('7D', convention='end').mean()\n",
    "# print(df['FC_3'])\n",
    "# line_plot(plt,'',_df,colns=['BC_3MONTH','BC_1YEAR','BC_5YEAR','BC_10YEAR','BC_20YEAR','BC_30YEAR'],xSeries=_df.index)\n",
    "line_plot(plt,\n",
    "          'Treasury Yield  short Term vs long term',\n",
    "          _df,\n",
    "#           colns=['BC_3MONTH','BC_1YEAR','BC_5YEAR','FC_3_9','FC_12_5'],\n",
    "          colns=['BC_3MONTH','BC_1YEAR','BC_5YEAR','BC_10YEAR','BC_20YEAR','BC_30YEAR'],\n",
    "          colLabs=['@3 month','@1 Y','@5 Y','@10 Y','@20 Y','@30 Y'],\n",
    "          xSeries=_df.index)\n"
   ]
  }
 ],
 "metadata": {
  "kernelspec": {
   "display_name": "Python 3",
   "language": "python",
   "name": "python3"
  },
  "language_info": {
   "codemirror_mode": {
    "name": "ipython",
    "version": 3
   },
   "file_extension": ".py",
   "mimetype": "text/x-python",
   "name": "python",
   "nbconvert_exporter": "python",
   "pygments_lexer": "ipython3",
   "version": "3.6.7"
  }
 },
 "nbformat": 4,
 "nbformat_minor": 2
}
